{
 "cells": [
  {
   "cell_type": "markdown",
   "metadata": {
    "id": "tdl19QtXTPvV"
   },
   "source": [
    "## Local IDRome constructor\n",
    "\n",
    "* Version 1.0 (initial release, May 27th 2023)\n",
    "\n",
    "This notebook enables a complete IDR-ome annotation to be generated from an uniprot FASTA file\n",
    "\n",
    "Specifically, notebook will:\n",
    "\n",
    "1. Predict all IDRs\n",
    "2. Calculate sequence properties for each IDR\n",
    "3. Predict ensemble properties using ALBATROSS\n",
    "4. Return a CSV file with all this information for easy exploration.\n",
    "\n",
    "\n",
    "### Input:\n",
    "The only input file required is a FASTA file obtained from UniProt.\n",
    "\n",
    "### Output:\n",
    "Once the notebook is complete, a CSV file called `local_IDRome_all.csv` will be written.\n",
    "\n",
    "### Performance:\n",
    "If GPU credits are available, the human proteome takes ~1 minute. If no GPU credits are available the human proteome takes more like 6-7 minutes. "
   ]
  },
  {
   "cell_type": "code",
   "execution_count": 13,
   "metadata": {
    "cellView": "form",
    "id": "UPf-D9eYxmYA"
   },
   "outputs": [],
   "source": [
    "#@title Setup \n",
    "\n",
    "from google.colab import files\n",
    "import io\n",
    "import protfasta\n",
    "\n",
    "from sparrow import Protein\n",
    "from shephard.apis import fasta, uniprot\n",
    "from shephard.apis import metapredict\n",
    "from sparrow.predictors import batch_predict\n",
    "import numpy as np"
   ]
  },
  {
   "cell_type": "code",
   "execution_count": 14,
   "metadata": {},
   "outputs": [
    {
     "name": "stderr",
     "output_type": "stream",
     "text": [
      "100%|████████████████████████████████████████████████████████████████████████████████████████████████████████████████████████████████████████████████| 2154/2154 [05:08<00:00,  6.99it/s]\n"
     ]
    },
    {
     "name": "stdout",
     "output_type": "stream",
     "text": [
      "Warning: length of disorder [21] is <= window_size [24]. This happens when you have a small IDR relative to the minimum IDR size. Updating windowsize to match sequence length.\n",
      "Warning: length of disorder [17] is <= window_size [24]. This happens when you have a small IDR relative to the minimum IDR size. Updating windowsize to match sequence length.\n",
      "Warning: length of disorder [17] is <= window_size [24]. This happens when you have a small IDR relative to the minimum IDR size. Updating windowsize to match sequence length.\n",
      "Warning: length of disorder [17] is <= window_size [24]. This happens when you have a small IDR relative to the minimum IDR size. Updating windowsize to match sequence length.\n",
      "Warning: length of disorder [16] is <= window_size [24]. This happens when you have a small IDR relative to the minimum IDR size. Updating windowsize to match sequence length.\n",
      "Warning: length of disorder [16] is <= window_size [24]. This happens when you have a small IDR relative to the minimum IDR size. Updating windowsize to match sequence length.\n",
      "Warning: length of disorder [16] is <= window_size [24]. This happens when you have a small IDR relative to the minimum IDR size. Updating windowsize to match sequence length.\n",
      "Warning: length of disorder [16] is <= window_size [24]. This happens when you have a small IDR relative to the minimum IDR size. Updating windowsize to match sequence length.\n",
      "Warning: length of disorder [16] is <= window_size [24]. This happens when you have a small IDR relative to the minimum IDR size. Updating windowsize to match sequence length.\n",
      "Warning: length of disorder [16] is <= window_size [24]. This happens when you have a small IDR relative to the minimum IDR size. Updating windowsize to match sequence length.\n",
      "Warning: length of disorder [16] is <= window_size [24]. This happens when you have a small IDR relative to the minimum IDR size. Updating windowsize to match sequence length.\n",
      "Warning: length of disorder [16] is <= window_size [24]. This happens when you have a small IDR relative to the minimum IDR size. Updating windowsize to match sequence length.\n",
      "Warning: length of disorder [16] is <= window_size [24]. This happens when you have a small IDR relative to the minimum IDR size. Updating windowsize to match sequence length.\n",
      "Warning: length of disorder [16] is <= window_size [24]. This happens when you have a small IDR relative to the minimum IDR size. Updating windowsize to match sequence length.\n",
      "Warning: length of disorder [15] is <= window_size [24]. This happens when you have a small IDR relative to the minimum IDR size. Updating windowsize to match sequence length.\n",
      "Warning: length of disorder [15] is <= window_size [24]. This happens when you have a small IDR relative to the minimum IDR size. Updating windowsize to match sequence length.\n",
      "Warning: length of disorder [15] is <= window_size [24]. This happens when you have a small IDR relative to the minimum IDR size. Updating windowsize to match sequence length.\n",
      "Warning: length of disorder [15] is <= window_size [24]. This happens when you have a small IDR relative to the minimum IDR size. Updating windowsize to match sequence length.\n",
      "Warning: length of disorder [20] is <= window_size [24]. This happens when you have a small IDR relative to the minimum IDR size. Updating windowsize to match sequence length.\n",
      "Warning: length of disorder [20] is <= window_size [24]. This happens when you have a small IDR relative to the minimum IDR size. Updating windowsize to match sequence length.\n",
      "Warning: length of disorder [10] is <= window_size [24]. This happens when you have a small IDR relative to the minimum IDR size. Updating windowsize to match sequence length.\n",
      "Warning: length of disorder [10] is <= window_size [24]. This happens when you have a small IDR relative to the minimum IDR size. Updating windowsize to match sequence length.\n",
      "Warning: length of disorder [10] is <= window_size [24]. This happens when you have a small IDR relative to the minimum IDR size. Updating windowsize to match sequence length.\n",
      "Warning: length of disorder [24] is <= window_size [24]. This happens when you have a small IDR relative to the minimum IDR size. Updating windowsize to match sequence length.\n",
      "Warning: length of disorder [24] is <= window_size [24]. This happens when you have a small IDR relative to the minimum IDR size. Updating windowsize to match sequence length.\n",
      "Warning: length of disorder [24] is <= window_size [24]. This happens when you have a small IDR relative to the minimum IDR size. Updating windowsize to match sequence length.\n",
      "Warning: length of disorder [24] is <= window_size [24]. This happens when you have a small IDR relative to the minimum IDR size. Updating windowsize to match sequence length.\n",
      "Warning: length of disorder [24] is <= window_size [24]. This happens when you have a small IDR relative to the minimum IDR size. Updating windowsize to match sequence length.\n",
      "Warning: length of disorder [24] is <= window_size [24]. This happens when you have a small IDR relative to the minimum IDR size. Updating windowsize to match sequence length.\n",
      "Warning: length of disorder [24] is <= window_size [24]. This happens when you have a small IDR relative to the minimum IDR size. Updating windowsize to match sequence length.\n",
      "Warning: length of disorder [24] is <= window_size [24]. This happens when you have a small IDR relative to the minimum IDR size. Updating windowsize to match sequence length.\n",
      "Warning: length of disorder [24] is <= window_size [24]. This happens when you have a small IDR relative to the minimum IDR size. Updating windowsize to match sequence length.\n",
      "Warning: length of disorder [24] is <= window_size [24]. This happens when you have a small IDR relative to the minimum IDR size. Updating windowsize to match sequence length.\n",
      "Warning: length of disorder [24] is <= window_size [24]. This happens when you have a small IDR relative to the minimum IDR size. Updating windowsize to match sequence length.\n",
      "Warning: length of disorder [5] is <= window_size [24]. This happens when you have a small IDR relative to the minimum IDR size. Updating windowsize to match sequence length.\n",
      "Warning: length of disorder [8] is <= window_size [24]. This happens when you have a small IDR relative to the minimum IDR size. Updating windowsize to match sequence length.\n",
      "Warning: length of disorder [11] is <= window_size [24]. This happens when you have a small IDR relative to the minimum IDR size. Updating windowsize to match sequence length.\n",
      "Warning: length of disorder [12] is <= window_size [24]. This happens when you have a small IDR relative to the minimum IDR size. Updating windowsize to match sequence length.\n",
      "Warning: length of disorder [18] is <= window_size [24]. This happens when you have a small IDR relative to the minimum IDR size. Updating windowsize to match sequence length.\n",
      "CPU times: user 4min 54s, sys: 24.7 s, total: 5min 19s\n",
      "Wall time: 5min 18s\n"
     ]
    }
   ],
   "source": [
    "%%time\n",
    "\n",
    "\n",
    "# define the location of the FASTA file (the example here was the UniProt human proteome)\n",
    "input_fasta_file = '<human proteome FASTA file>'\n",
    "\n",
    "proteome = uniprot.uniprot_fasta_to_proteome(input_fasta_file)\n",
    "\n",
    "metapredict.annotate_proteome_with_disordered_domains(proteome)\n",
    "\n",
    "data = {}\n",
    "for d in proteome.domains:\n",
    "    name = f\"{d.protein.unique_ID}_{d.start}_{d.end}\"\n",
    "    name = name.replace(',',';')\n",
    "    data[name] = d.sequence\n",
    "\n",
    "\n",
    "\n"
   ]
  },
  {
   "cell_type": "code",
   "execution_count": 15,
   "metadata": {},
   "outputs": [
    {
     "name": "stderr",
     "output_type": "stream",
     "text": [
      "100%|████████████████████████████████████████████████████████████████████████████████████████████████████████████████████████████████████████████████| 1079/1079 [00:54<00:00, 19.90it/s]\n",
      "100%|████████████████████████████████████████████████████████████████████████████████████████████████████████████████████████████████████████████████| 1079/1079 [00:53<00:00, 20.07it/s]\n",
      "100%|████████████████████████████████████████████████████████████████████████████████████████████████████████████████████████████████████████████████| 1079/1079 [01:49<00:00,  9.86it/s]\n",
      "100%|████████████████████████████████████████████████████████████████████████████████████████████████████████████████████████████████████████████████| 1079/1079 [01:38<00:00, 10.91it/s]\n",
      "100%|████████████████████████████████████████████████████████████████████████████████████████████████████████████████████████████████████████████████| 1079/1079 [01:01<00:00, 17.50it/s]"
     ]
    },
    {
     "name": "stdout",
     "output_type": "stream",
     "text": [
      "CPU times: user 5min 52s, sys: 30.5 s, total: 6min 22s\n",
      "Wall time: 6min 18s\n"
     ]
    },
    {
     "name": "stderr",
     "output_type": "stream",
     "text": [
      "\n"
     ]
    }
   ],
   "source": [
    "%%time\n",
    "rg = batch_predict.batch_predict(data, network='scaled_rg')  \n",
    "re = batch_predict.batch_predict(data, network='scaled_re')  \n",
    "asph = batch_predict.batch_predict(data, network='asphericity')  \n",
    "nu = batch_predict.batch_predict(data, network='scaling_exponent')  \n",
    "pref = batch_predict.batch_predict(data, network='prefactor')  \n"
   ]
  },
  {
   "cell_type": "code",
   "execution_count": 16,
   "metadata": {},
   "outputs": [],
   "source": [
    "\n",
    "outname = 'local_IDRome_all.csv'\n",
    "\n",
    "try:\n",
    "    os.remove(outname)\n",
    "except Exception:\n",
    "    pass\n",
    "\n",
    "fh = open(outname,'w')\n",
    "\n",
    "out_string = ''\n",
    "out_string += \"IDR ID, \"\n",
    "out_string += \"FASTA header, \"\n",
    "\n",
    "\n",
    "out_string += \"UniProtID, \"\n",
    "\n",
    "out_string += \"IDR start, \"\n",
    "out_string += \"IDR end, \"\n",
    "out_string += \"IDR len, \"\n",
    "\n",
    "\n",
    "out_string += \"Rg (A), \"\n",
    "out_string += \"Re (A), \"\n",
    "out_string += \"asphericity, \"\n",
    "out_string += \"scaling_exponent, \"\n",
    "out_string += \"prefactor, \"\n",
    "\n",
    "out_string += \"FCR, \"\n",
    "out_string += \"NCPR, \"\n",
    "out_string += \"kappa, \"\n",
    "out_string += \"frac_negative, \"\n",
    "out_string += \"fract_positive, \"\n",
    "out_string += \"fract_aro, \"\n",
    "out_string += \"fract_pro, \"\n",
    "out_string += \"fract_polar, \"\n",
    "out_string += \"fract_ali, \"\n",
    "out_string += \"sequence\\n\"\n",
    "\n",
    "fh.write(out_string)\n",
    "\n",
    "\n",
    "for d in proteome.domains:\n",
    "    name = f\"{d.protein.unique_ID}_{d.start}_{d.end}\"\n",
    "    name = name.replace(',',';')\n",
    "    out_string = ''\n",
    "    if name.find(',') > -1:\n",
    "        raise Exception\n",
    "\n",
    "    fasta_header = d.protein.name\n",
    "    fasta_header = fasta_header.replace(',',';')\n",
    "\n",
    "    out_string += f\"{name}, \"\n",
    "    out_string += f\"{fasta_header}, \"\n",
    "    out_string += f\"{d.protein.unique_ID}, \"\n",
    "    \n",
    "    out_string += f\"{d.start}, \"\n",
    "    out_string += f\"{d.end}, \"\n",
    "    out_string += f\"{len(d.sequence)}, \"\n",
    "\n",
    "\n",
    "    out_string += f\"{rg[name][1]:.2f}, \"\n",
    "\n",
    "\n",
    "    out_string += f\"{re[name][1]:.2f}, \"\n",
    "\n",
    "\n",
    "    out_string += f\"{asph[name][1]:.3f}, \"\n",
    "\n",
    "\n",
    "    out_string += f\"{nu[name][1]:.3f}, \"\n",
    "\n",
    "\n",
    "    out_string += f\"{pref[name][1]:.3f}, \"\n",
    "\n",
    "    local_protein = Protein(d.sequence)\n",
    "    out_string += f\"{round(local_protein.FCR,3)}, \"\n",
    "    out_string += f\"{round(local_protein.NCPR,3)}, \"\n",
    "    out_string += f\"{round(local_protein.kappa,3)}, \"\n",
    "    out_string += f\"{round(local_protein.fraction_negative,3)}, \"\n",
    "    out_string += f\"{round(local_protein.fraction_positive,3)}, \"\n",
    "    out_string += f\"{round(local_protein.fraction_aromatic,3)}, \"\n",
    "    out_string += f\"{round(local_protein.fraction_proline,3)}, \"\n",
    "    out_string += f\"{round(local_protein.fraction_polar,3)}, \"\n",
    "    out_string += f\"{round(local_protein.fraction_aliphatic,3)}, \"\n",
    "    out_string += f\"{d.sequence}\\n\"\n",
    "    fh.write(out_string)\n",
    "\n",
    "\n",
    "fh.close()\n",
    "\n"
   ]
  }
 ],
 "metadata": {
  "accelerator": "GPU",
  "colab": {
   "authorship_tag": "ABX9TyOkx1oZZYq4e1S9/G50Mo99",
   "gpuType": "T4",
   "include_colab_link": true,
   "provenance": []
  },
  "gpuClass": "standard",
  "kernelspec": {
   "display_name": "Python 3 (ipykernel)",
   "language": "python",
   "name": "python3"
  },
  "language_info": {
   "codemirror_mode": {
    "name": "ipython",
    "version": 3
   },
   "file_extension": ".py",
   "mimetype": "text/x-python",
   "name": "python",
   "nbconvert_exporter": "python",
   "pygments_lexer": "ipython3",
   "version": "3.8.12"
  }
 },
 "nbformat": 4,
 "nbformat_minor": 1
}
