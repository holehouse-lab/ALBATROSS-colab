{
  "nbformat": 4,
  "nbformat_minor": 0,
  "metadata": {
    "colab": {
      "provenance": [],
      "authorship_tag": "ABX9TyN8XYTQ1EB5Xxusc0A6jemI",
      "include_colab_link": true
    },
    "kernelspec": {
      "name": "python3",
      "display_name": "Python 3"
    },
    "language_info": {
      "name": "python"
    }
  },
  "cells": [
    {
      "cell_type": "markdown",
      "metadata": {
        "id": "view-in-github",
        "colab_type": "text"
      },
      "source": [
        "<a href=\"https://colab.research.google.com/github/holehouse-lab/EnsPredict-colab/blob/main/example_notebooks/polymer_property_predictors.ipynb\" target=\"_parent\"><img src=\"https://colab.research.google.com/assets/colab-badge.svg\" alt=\"Open In Colab\"/></a>"
      ]
    },
    {
      "cell_type": "markdown",
      "source": [
        "# Welcome to IDPEnsemble Predictor"
      ],
      "metadata": {
        "id": "ffajaERR2-t_"
      }
    },
    {
      "cell_type": "code",
      "source": [
        "#@title Install Necessary Dependencies\n",
        "!pip install git+https://git@github.com/idptools/sparrow.git@polymer_predictors --quiet\n",
        "\n",
        "\n"
      ],
      "metadata": {
        "id": "-fvNNE364qtj",
        "colab": {
          "base_uri": "https://localhost:8080/"
        },
        "outputId": "8a097f3b-5ccc-4ca7-e17b-911162927b93",
        "cellView": "form"
      },
      "execution_count": 1,
      "outputs": [
        {
          "output_type": "stream",
          "name": "stdout",
          "text": [
            "  Preparing metadata (setup.py) ... \u001b[?25l\u001b[?25hdone\n",
            "  Building wheel for sparrow (setup.py) ... \u001b[?25l\u001b[?25hdone\n"
          ]
        }
      ]
    },
    {
      "cell_type": "code",
      "source": [
        "#@title File Imports\n",
        "import sparrow\n",
        "from sparrow.predictors.batch_predict import batch_predict\n",
        "from google.colab import data_table\n",
        "import pandas as pd\n",
        "from sparrow.sparrow_exceptions import SparrowException\n",
        "import matplotlib.pyplot as plt\n",
        "from google.colab import files\n",
        "import io\n",
        "from collections import defaultdict"
      ],
      "metadata": {
        "id": "5M6IhZED0ywO",
        "cellView": "form",
        "colab": {
          "base_uri": "https://localhost:8080/"
        },
        "outputId": "e7cc7b60-a466-4f61-a65e-df955a4137aa"
      },
      "execution_count": 2,
      "outputs": [
        {
          "output_type": "stream",
          "name": "stdout",
          "text": [
            "Error importing GPy.\n",
            " If trying to run parrot-optimize, make sure to use `pip install idptools-parrot[optimize]`\n"
          ]
        }
      ]
    },
    {
      "cell_type": "code",
      "source": [
        "#@title Target Sequence\n",
        "#@markdown <h1>Enter the primary amino acid sequence:</h1>\n",
        "\n",
        "#@markdown Notes: \n",
        "\n",
        "#@markdown - The following predictors implicitly assume this sequence is disordered.\n",
        "\n",
        "#@markdown - A sequence cannot be provided at the same time as a fasta file.\n",
        "\n",
        "# define the function that will be called when the form is submitted\n",
        "def process_form():\n",
        "    uploaded_data = files.upload()\n",
        "    uploaded_fasta = list(uploaded_data.keys())[0]\n",
        "    # Load protein objects\n",
        "    try:\n",
        "      protein_objs = sparrow.read_fasta(uploaded_fasta)\n",
        "    except TypeError as e:\n",
        "      print(f\"Received TypeError: Perhaps you didn't upload a file?\")\n",
        "      raise e\n",
        "\n",
        "    return protein_objs\n",
        "\n",
        "\n",
        "\n",
        "sequence = \"PKSGDEKDGGSPGKSGKRKDSPKGSRKPKGKPSGSPGKSGPKSGDEKDGGKRKDSPKGSRKD\" #@param {type:\"string\"}\n",
        "fasta_file = False #@param {type:\"boolean\"}\n",
        "\n",
        "\n",
        "if fasta_file and len(sequence) > 0:\n",
        "  raise SparrowException(f\"Cannot specify both a sequence and a list of sequences from a fasta file simultaneously\")\n",
        "\n",
        "if fasta_file:\n",
        "    protein_objs = process_form()\n",
        "    for protein in protein_objs:\n",
        "        if len(protein) > 750:\n",
        "            raise SparrowException(f\"Sequences longer than 750 residues are not currently supported.\"\\\n",
        "            \"You entered a protein with length {len(protein)} residues\")\n",
        "else:\n",
        "    if len(sequence) > 750:\n",
        "        raise SparrowException(f\"Sequences longer than 750 residues are not currently supported.\"\\\n",
        "            \"You entered a protein with length {len(sequence)} residues\")\n",
        "    \n",
        "    protein_objs = sparrow.Protein(sequence)\n",
        "    "
      ],
      "metadata": {
        "id": "pezBzdsc3RIv",
        "cellView": "form"
      },
      "execution_count": 3,
      "outputs": []
    },
    {
      "cell_type": "code",
      "source": [
        "#@title Sequence Property Prediction\n",
        "\n",
        "#@markdown <h1>Please select the ensemble features you'd like to predict and then press the run cell button: </h1>\n",
        "\n",
        "#@markdown This may take some time for large fasta files. GPU batch support is currently not implemented. Power users are recommended to install sparrow to run predictions locally.\n",
        "\n",
        "radius_of_gyration = True #@param {type:\"boolean\"}\n",
        "end_to_end_distance = True #@param {type:\"boolean\"}\n",
        "scaling_exponent = True #@param {type:\"boolean\"}\n",
        "prefactor = True #@param {type:\"boolean\"}\n",
        "asphericity = True #@param {type:\"boolean\"}\n",
        "\n",
        "def return_fasta_predictions(protein_objs):\n",
        "    dimensions = defaultdict(dict)\n",
        "\n",
        "    for i, (header, protein) in enumerate(protein_objs.items(),1):\n",
        "        dimensions[header].update({\"length\" : int(len(protein))})\n",
        "\n",
        "        if radius_of_gyration:\n",
        "            dimensions[header].update({\"radius_of_gyration\" : protein.predictor.radius_of_gyration()})\n",
        "        \n",
        "        if end_to_end_distance:\n",
        "            dimensions[header].update({\"end_to_end_distance\" : protein.predictor.end_to_end_distance()})\n",
        "\n",
        "        if scaling_exponent:\n",
        "            dimensions[header].update({\"scaling_exponent\" : protein.predictor.scaling_exponent()})\n",
        "\n",
        "        if asphericity:\n",
        "            dimensions[header].update({\"asphericity\" : protein.predictor.asphericity()})\n",
        "\n",
        "        if prefactor:\n",
        "            dimensions[header].update({\"prefactor\" : protein.predictor.prefactor()})\n",
        "\n",
        "        df = pd.DataFrame(dimensions).T\n",
        "        df = df.rename_axis('fasta_header')\n",
        "        \n",
        "    return df\n",
        "\n",
        "def return_individual_predictions(protein):\n",
        "    dimensions = defaultdict(dict)\n",
        "\n",
        "    dimensions[f\"{protein.sequence}\"].update({\"length\" : int(len(protein))})\n",
        "\n",
        "    if radius_of_gyration:\n",
        "        dimensions[f\"{protein.sequence}\"].update({\"radius_of_gyration\" : protein.predictor.radius_of_gyration()})\n",
        "    \n",
        "    if end_to_end_distance:\n",
        "        dimensions[f\"{protein.sequence}\"].update({\"end_to_end_distance\" : protein.predictor.end_to_end_distance()})\n",
        "    \n",
        "    if scaling_exponent:\n",
        "        dimensions[f\"{protein.sequence}\"].update({\"scaling_exponent\" : protein.predictor.scaling_exponent()})\n",
        "    \n",
        "    if asphericity:\n",
        "        dimensions[f\"{protein.sequence}\"].update({\"asphericity\" : protein.predictor.asphericity()})\n",
        "\n",
        "    if prefactor:\n",
        "        dimensions[f\"{protein.sequence}\"].update({\"prefactor\" : 5.5})\n",
        "\n",
        "    df = pd.DataFrame(dimensions).T\n",
        "    \n",
        "    return df\n",
        "\n",
        "def is_iterable(obj):\n",
        "    try:\n",
        "        iter(obj)\n",
        "        return True\n",
        "    except TypeError:\n",
        "        return False\n",
        "\n",
        "if is_iterable(protein_objs):\n",
        "    df = return_fasta_predictions(protein_objs)\n",
        "else:\n",
        "    df = return_individual_predictions(protein_objs)\n",
        "\n",
        "\n",
        "\n",
        "display(data_table.DataTable(df, include_index=True, num_rows_per_page=5))\n"
      ],
      "metadata": {
        "colab": {
          "base_uri": "https://localhost:8080/",
          "height": 115
        },
        "id": "J5Z377pa3sHV",
        "outputId": "9d779cfc-799c-4add-9f60-5087ee1e3c09",
        "collapsed": true,
        "cellView": "form"
      },
      "execution_count": 4,
      "outputs": [
        {
          "output_type": "display_data",
          "data": {
            "text/html": [
              "<div>\n",
              "<style scoped>\n",
              "    .dataframe tbody tr th:only-of-type {\n",
              "        vertical-align: middle;\n",
              "    }\n",
              "\n",
              "    .dataframe tbody tr th {\n",
              "        vertical-align: top;\n",
              "    }\n",
              "\n",
              "    .dataframe thead th {\n",
              "        text-align: right;\n",
              "    }\n",
              "</style>\n",
              "<table border=\"1\" class=\"dataframe\">\n",
              "  <thead>\n",
              "    <tr style=\"text-align: right;\">\n",
              "      <th></th>\n",
              "      <th>asphericity</th>\n",
              "      <th>end_to_end_distance</th>\n",
              "      <th>length</th>\n",
              "      <th>prefactor</th>\n",
              "      <th>radius_of_gyration</th>\n",
              "      <th>scaling_exponent</th>\n",
              "    </tr>\n",
              "  </thead>\n",
              "  <tbody>\n",
              "    <tr>\n",
              "      <th>PKSGDEKDGGSPGKSGKRKDSPKGSRKPKGKPSGSPGKSGPKSGDEKDGGKRKDSPKGSRKD</th>\n",
              "      <td>0.475029</td>\n",
              "      <td>59.990929</td>\n",
              "      <td>62.0</td>\n",
              "      <td>5.5</td>\n",
              "      <td>25.866266</td>\n",
              "      <td>0.567414</td>\n",
              "    </tr>\n",
              "  </tbody>\n",
              "</table>\n",
              "</div>"
            ],
            "application/vnd.google.colaboratory.module+javascript": "\n      import \"https://ssl.gstatic.com/colaboratory/data_table/99dac6621f6ae8c4/data_table.js\";\n\n      window.createDataTable({\n        data: [[\"PKSGDEKDGGSPGKSGKRKDSPKGSRKPKGKPSGSPGKSGPKSGDEKDGGKRKDSPKGSRKD\",\n{\n            'v': 0.4750291705131531,\n            'f': \"0.4750291705131531\",\n        },\n{\n            'v': 59.990928649902344,\n            'f': \"59.990928649902344\",\n        },\n{\n            'v': 62.0,\n            'f': \"62.0\",\n        },\n{\n            'v': 5.5,\n            'f': \"5.5\",\n        },\n{\n            'v': 25.86626625061035,\n            'f': \"25.86626625061035\",\n        },\n{\n            'v': 0.5674137473106384,\n            'f': \"0.5674137473106384\",\n        }]],\n        columns: [[\"string\", \"index\"], [\"number\", \"asphericity\"], [\"number\", \"end_to_end_distance\"], [\"number\", \"length\"], [\"number\", \"prefactor\"], [\"number\", \"radius_of_gyration\"], [\"number\", \"scaling_exponent\"]],\n        columnOptions: [{\"width\": \"1px\", \"className\": \"index_column\"}],\n        rowsPerPage: 5,\n        helpUrl: \"https://colab.research.google.com/notebooks/data_table.ipynb\",\n        suppressOutputScrolling: true,\n        minimumWidth: undefined,\n      });\n    ",
            "text/plain": [
              "<google.colab.data_table.DataTable object>"
            ]
          },
          "metadata": {}
        }
      ]
    },
    {
      "cell_type": "code",
      "source": [
        "#@title Plot predicted end-to-end-distribution\n",
        "bins = 25 #@param {type:\"integer\"}\n",
        "if is_iterable(protein_objs):\n",
        "    raise SparrowException(\"We don't currently support predicting end-to-end distance distributions from fasta files. Please use the single sequence method in the cell above.\")\n",
        "\n",
        "p_of_Re_R, p_of_Re_P = protein_objs.polymeric.get_predicted_nu_dep_end_to_end_distribution()\n",
        "plt.hist(p_of_Re_R, weights=p_of_Re_P, linewidth=0.5, edgecolor='k',bins=bins)\n",
        "plt.xlabel(r\"End to End Distance ($\\AA$)\")\n",
        "plt.ylabel(\"Probability\")\n",
        "plt.axvline(protein_objs.predictor.end_to_end_distance(), linestyle=\"--\",color='r',label=r\"Mean $R_e$\")\n",
        "plt.legend()\n",
        "plt.show()"
      ],
      "metadata": {
        "colab": {
          "base_uri": "https://localhost:8080/",
          "height": 453
        },
        "cellView": "form",
        "id": "e0T5qZGeQ_Er",
        "outputId": "654daf49-6cd0-456d-af15-33ed3ecd6b28"
      },
      "execution_count": 5,
      "outputs": [
        {
          "output_type": "display_data",
          "data": {
            "text/plain": [
              "<Figure size 640x480 with 1 Axes>"
            ],
            "image/png": "[encoded data removed]"
          },
          "metadata": {}
        }
      ]
    }
  ]
}