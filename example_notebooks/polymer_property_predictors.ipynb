{
  "nbformat": 4,
  "nbformat_minor": 0,
  "metadata": {
    "colab": {
      "provenance": [],
      "authorship_tag": "ABX9TyMiqtTbAzBFo36nT+aIwboL",
      "include_colab_link": true
    },
    "kernelspec": {
      "name": "python3",
      "display_name": "Python 3"
    },
    "language_info": {
      "name": "python"
    },
    "gpuClass": "standard",
    "accelerator": "GPU"
  },
  "cells": [
    {
      "cell_type": "markdown",
      "metadata": {
        "id": "view-in-github",
        "colab_type": "text"
      },
      "source": [
        "<a href=\"https://colab.research.google.com/github/holehouse-lab/EnsPredict-colab/blob/main/example_notebooks/polymer_property_predictors.ipynb\" target=\"_parent\"><img src=\"https://colab.research.google.com/assets/colab-badge.svg\" alt=\"Open In Colab\"/></a>"
      ]
    },
    {
      "cell_type": "markdown",
      "source": [
        "# Welcome to IDPEnsemble Predictor"
      ],
      "metadata": {
        "id": "ffajaERR2-t_"
      }
    },
    {
      "cell_type": "code",
      "source": [
        "#@title Install Necessary Dependencies\n",
        "!pip install git+https://git@github.com/idptools/sparrow.git@polymer_predictors --quiet;"
      ],
      "metadata": {
        "id": "-fvNNE364qtj",
        "colab": {
          "base_uri": "https://localhost:8080/"
        },
        "outputId": "0701f139-6493-45d6-d814-d3544842a3e7",
        "cellView": "form"
      },
      "execution_count": 2,
      "outputs": [
        {
          "output_type": "stream",
          "name": "stdout",
          "text": [
            "  Preparing metadata (setup.py) ... \u001b[?25l\u001b[?25hdone\n",
            "\u001b[2K     \u001b[90m━━━━━━━━━━━━━━━━━━━━━━━━━━━━━━━━━━━━━━━\u001b[0m \u001b[32m142.6/142.6 kB\u001b[0m \u001b[31m4.1 MB/s\u001b[0m eta \u001b[36m0:00:00\u001b[0m\n",
            "\u001b[?25h  Preparing metadata (setup.py) ... \u001b[?25l\u001b[?25hdone\n",
            "\u001b[2K     \u001b[90m━━━━━━━━━━━━━━━━━━━━━━━━━━━━━━━━━━━━━━\u001b[0m \u001b[32m476.7/476.7 kB\u001b[0m \u001b[31m28.5 MB/s\u001b[0m eta \u001b[36m0:00:00\u001b[0m\n",
            "\u001b[?25h  Preparing metadata (setup.py) ... \u001b[?25l\u001b[?25hdone\n",
            "\u001b[2K     \u001b[90m━━━━━━━━━━━━━━━━━━━━━━━━━━━━━━━━━━━━━━\u001b[0m \u001b[32m101.5/101.5 kB\u001b[0m \u001b[31m14.0 MB/s\u001b[0m eta \u001b[36m0:00:00\u001b[0m\n",
            "\u001b[2K     \u001b[90m━━━━━━━━━━━━━━━━━━━━━━━━━━━━━━━━━━━━━━━━\u001b[0m \u001b[32m58.0/58.0 kB\u001b[0m \u001b[31m6.3 MB/s\u001b[0m eta \u001b[36m0:00:00\u001b[0m\n",
            "\u001b[?25h  Preparing metadata (setup.py) ... \u001b[?25l\u001b[?25hdone\n",
            "\u001b[2K     \u001b[90m━━━━━━━━━━━━━━━━━━━━━━━━━━━━━━━━━━━━━━━━\u001b[0m \u001b[32m2.3/2.3 MB\u001b[0m \u001b[31m59.9 MB/s\u001b[0m eta \u001b[36m0:00:00\u001b[0m\n",
            "\u001b[?25h  Preparing metadata (setup.py) ... \u001b[?25l\u001b[?25hdone\n",
            "\u001b[2K     \u001b[90m━━━━━━━━━━━━━━━━━━━━━━━━━━━━━━━━━━━━━━━━\u001b[0m \u001b[32m1.2/1.2 MB\u001b[0m \u001b[31m54.9 MB/s\u001b[0m eta \u001b[36m0:00:00\u001b[0m\n",
            "\u001b[?25h  Preparing metadata (setup.py) ... \u001b[?25l\u001b[?25hdone\n",
            "\u001b[2K     \u001b[90m━━━━━━━━━━━━━━━━━━━━━━━━━━━━━━━━━━━━━━━━\u001b[0m \u001b[32m1.6/1.6 MB\u001b[0m \u001b[31m56.5 MB/s\u001b[0m eta \u001b[36m0:00:00\u001b[0m\n",
            "\u001b[?25h  Building wheel for sparrow (setup.py) ... \u001b[?25l\u001b[?25hdone\n",
            "  Building wheel for metapredict (setup.py) ... \u001b[?25l\u001b[?25hdone\n",
            "  Building wheel for alphaPredict (setup.py) ... \u001b[?25l\u001b[?25hdone\n",
            "  Building wheel for afrc (setup.py) ... \u001b[?25l\u001b[?25hdone\n",
            "  Building wheel for protfasta (setup.py) ... \u001b[?25l\u001b[?25hdone\n",
            "  Building wheel for getSequence (setup.py) ... \u001b[?25l\u001b[?25hdone\n"
          ]
        }
      ]
    },
    {
      "cell_type": "code",
      "source": [
        "#@title File Imports\n",
        "import sparrow\n",
        "from sparrow.predictors.batch_predict import batch_predict\n",
        "from google.colab import data_table\n",
        "import pandas as pd\n",
        "from sparrow.sparrow_exceptions import SparrowException\n",
        "import matplotlib.pyplot as plt\n",
        "from google.colab import files\n",
        "import io\n",
        "import os\n",
        "from collections import defaultdict\n",
        "import torch"
      ],
      "metadata": {
        "id": "5M6IhZED0ywO",
        "cellView": "form"
      },
      "execution_count": 33,
      "outputs": []
    },
    {
      "cell_type": "code",
      "source": [
        "#@title Target Sequence\n",
        "#@markdown <h1>Enter the primary amino acid sequence:</h1>\n",
        "\n",
        "#@markdown Notes: \n",
        "\n",
        "#@markdown - The following predictors implicitly assume this sequence is disordered.\n",
        "\n",
        "#@markdown - A sequence cannot be provided at the same time as a fasta file.\n",
        "\n",
        "# define the function that will be called when the form is submitted\n",
        "def process_form():\n",
        "    uploaded_data = files.upload()\n",
        "    uploaded_fasta = list(uploaded_data.keys())[0]\n",
        "    # Load protein objects\n",
        "    try:\n",
        "      protein_objs = sparrow.read_fasta(uploaded_fasta)\n",
        "    except TypeError as e:\n",
        "      print(f\"Received TypeError: Perhaps you didn't upload a file?\")\n",
        "      raise e\n",
        "\n",
        "    return protein_objs\n",
        "\n",
        "\n",
        "\n",
        "sequence = \"THISISANAMINAACIDSEQWENCE\" #@param {type:\"string\"}\n",
        "fasta_file = False #@param {type:\"boolean\"}\n",
        "\n",
        "\n",
        "if fasta_file and len(sequence) > 0:\n",
        "  raise SparrowException(f\"Cannot specify both a sequence and a list of sequences from a fasta file simultaneously\")\n",
        "\n",
        "if fasta_file:\n",
        "    protein_objs = process_form()\n",
        "    for protein in protein_objs:\n",
        "        if len(protein) > 750:\n",
        "            raise SparrowException(f\"Sequences longer than 750 residues are not currently supported.\"\\\n",
        "            \"You entered a protein with length {len(protein)} residues\")\n",
        "else:\n",
        "    if len(sequence) > 750:\n",
        "        raise SparrowException(f\"Sequences longer than 750 residues are not currently supported.\"\\\n",
        "            \"You entered a protein with length {len(sequence)} residues\")\n",
        "    \n",
        "    protein_objs = sparrow.Protein(sequence)\n",
        "    "
      ],
      "metadata": {
        "id": "pezBzdsc3RIv",
        "cellView": "form"
      },
      "execution_count": 4,
      "outputs": []
    },
    {
      "cell_type": "code",
      "source": [
        "#@title Sequence Property Prediction\n",
        "\n",
        "#@markdown <h1>Please select the ensemble features you'd like to predict and then press the run cell button: </h1>\n",
        "\n",
        "#@markdown Predictions can be run on CPU or GPU. Bulk predictions form fasta may be slow on CPU.\n",
        "\n",
        "radius_of_gyration = True #@param {type:\"boolean\"}\n",
        "end_to_end_distance = True #@param {type:\"boolean\"}\n",
        "scaling_exponent = True #@param {type:\"boolean\"}\n",
        "prefactor = True #@param {type:\"boolean\"}\n",
        "asphericity = True #@param {type:\"boolean\"}\n",
        "\n",
        "def __gpu_accelerated_fasta_predictions(protein_objs):\n",
        "    \n",
        "    dfs = []\n",
        "    labels = {header : protein.sequence for header,protein in protein_objs.items()}\n",
        "    lengths = {protein.sequence : int(len(protein)) for header, protein in protein_objs.items()}\n",
        "    \n",
        "    dfs.append(pd.DataFrame(list(labels.items()), columns=['fasta_header', 'sequence']))\n",
        "    dfs.append(pd.DataFrame(list(lengths.items()), columns=['sequence', 'lengths']))\n",
        "    if radius_of_gyration:\n",
        "        radius_of_gyrations = batch_predict(protein_objs,batch_size=32,network=\"rg\")\n",
        "        dfs.append(pd.DataFrame(list(radius_of_gyrations.items()), columns=['sequence', 'radius_of_gyration']))\n",
        "\n",
        "    if end_to_end_distance:\n",
        "        end_to_end_distances = batch_predict(protein_objs,batch_size=32,network=\"re\")\n",
        "        dfs.append(pd.DataFrame(list(end_to_end_distances.items()), columns=['sequence', 'end_to_end_distance']))\n",
        "                \n",
        "    if scaling_exponent:\n",
        "        scaling_exponents = batch_predict(protein_objs,batch_size=32,network=\"scaling_exponent\")\n",
        "        dfs.append(pd.DataFrame(list(scaling_exponents.items()), columns=['sequence', 'scaling_exponent']))\n",
        "\n",
        "    if asphericity:\n",
        "        asphericitys = batch_predict(protein_objs,batch_size=32,network=\"asphericity\") \n",
        "        dfs.append(pd.DataFrame(list(asphericitys.items()), columns=['sequence', 'asphericity']))\n",
        "        \n",
        "    if prefactor:\n",
        "        prefactors = batch_predict(protein_objs,batch_size=32,network=\"prefactor\") \n",
        "        dfs.append(pd.DataFrame(list(prefactors.items()), columns=['sequence', 'prefactor']))\n",
        "\n",
        "    merged_df = dfs[0]  # initialize merged_df with the first dataframe\n",
        "\n",
        "    for df in dfs[1:]:  # iterate over the remaining dataframes\n",
        "        # merge on 'key' column\n",
        "        merged_df = pd.merge(merged_df, df, on='sequence')  \n",
        "        # move 'sequence' column to the end\n",
        "        merged_df = merged_df[[col for col in merged_df.columns if col != 'sequence'] + ['sequence']] \n",
        "    \n",
        "    return merged_df\n",
        "    \n",
        "def __cpu_fasta_predictions(protein_objs):\n",
        "    dimensions = defaultdict(dict)\n",
        "\n",
        "    for i, (header, protein) in enumerate(protein_objs.items(), 1):\n",
        "        dimensions[header].update({\"length\" : int(len(protein))})\n",
        "        dimensions[header].update({\"sequence\" : protein.sequence})\n",
        "\n",
        "        if radius_of_gyration:\n",
        "            dimensions[header].update({\"radius_of_gyration\" : protein.predictor.radius_of_gyration()})\n",
        "        \n",
        "        if end_to_end_distance:\n",
        "            dimensions[header].update({\"end_to_end_distance\" : protein.predictor.end_to_end_distance()})\n",
        "\n",
        "        if scaling_exponent:\n",
        "            dimensions[header].update({\"scaling_exponent\" : protein.predictor.scaling_exponent()})\n",
        "\n",
        "        if asphericity:\n",
        "            dimensions[header].update({\"asphericity\" : protein.predictor.asphericity()})\n",
        "\n",
        "        if prefactor:\n",
        "            dimensions[header].update({\"prefactor\" : protein.predictor.prefactor()})\n",
        "\n",
        "    df = pd.DataFrame(dimensions).T\n",
        "    df = df.rename_axis('fasta_header')\n",
        "    df = df[[col for col in df.columns if col != 'sequence'] + ['sequence']] \n",
        "\n",
        "    return df\n",
        "\n",
        "def return_fasta_predictions(protein_objs):\n",
        "    if torch.cuda.is_available():\n",
        "        df = __gpu_accelerated_fasta_predictions(protein_objs)\n",
        "    else:\n",
        "        df = __cpu_fasta_predictions(protein_objs)\n",
        "        \n",
        "    return df\n",
        "\n",
        "def return_individual_predictions(protein):\n",
        "    print(\"here\")\n",
        "    dimensions = defaultdict(dict)\n",
        "    col_names = []\n",
        "    \n",
        "    dimensions[f\"{protein.sequence}\"].update({\"length\" : int(len(protein))})\n",
        "    col_names.append(\"length\")\n",
        "\n",
        "    if radius_of_gyration:\n",
        "        dimensions[f\"{protein.sequence}\"].update({\"radius_of_gyration\" : protein.predictor.radius_of_gyration()})\n",
        "        col_names.append(\"radius_of_gyration\")\n",
        "    if end_to_end_distance:\n",
        "        dimensions[f\"{protein.sequence}\"].update({\"end_to_end_distance\" : protein.predictor.end_to_end_distance()})\n",
        "        col_names.append(\"end_to_end_distance\")\n",
        "    if scaling_exponent:\n",
        "        dimensions[f\"{protein.sequence}\"].update({\"scaling_exponent\" : protein.predictor.scaling_exponent()})\n",
        "        col_names.append(\"scaling_exponent\")\n",
        "    if asphericity:\n",
        "        dimensions[f\"{protein.sequence}\"].update({\"asphericity\" : protein.predictor.asphericity()})\n",
        "        col_names.append(\"asphericity\")\n",
        "\n",
        "    if prefactor:\n",
        "        dimensions[f\"{protein.sequence}\"].update({\"prefactor\" : protein.predictor.prefactor()})\n",
        "        col_names.append(\"prefactor\")\n",
        "\n",
        "    df = pd.DataFrame(dimensions).T\n",
        "    df = df.rename_axis('sequence')\n",
        "    df = df.reindex(columns=col_names)\n",
        "\n",
        "\n",
        "    return df\n",
        "\n",
        "def is_iterable(obj):\n",
        "    try:\n",
        "        iter(obj)\n",
        "        return True\n",
        "    except TypeError:\n",
        "        return False\n",
        "\n",
        "\n",
        "if is_iterable(protein_objs):\n",
        "    df = return_fasta_predictions(protein_objs)\n",
        "else:\n",
        "    df = return_individual_predictions(protein_objs)\n",
        "\n",
        "\n",
        "display(data_table.DataTable(df, include_index=True, num_rows_per_page=5))\n"
      ],
      "metadata": {
        "colab": {
          "base_uri": "https://localhost:8080/",
          "height": 133
        },
        "id": "J5Z377pa3sHV",
        "outputId": "1a0e4f5c-4faa-4b5c-9aff-07a7fb8b88d0",
        "collapsed": true,
        "cellView": "form"
      },
      "execution_count": 31,
      "outputs": [
        {
          "output_type": "stream",
          "name": "stdout",
          "text": [
            "here\n"
          ]
        },
        {
          "output_type": "display_data",
          "data": {
            "text/html": [
              "<div>\n",
              "<style scoped>\n",
              "    .dataframe tbody tr th:only-of-type {\n",
              "        vertical-align: middle;\n",
              "    }\n",
              "\n",
              "    .dataframe tbody tr th {\n",
              "        vertical-align: top;\n",
              "    }\n",
              "\n",
              "    .dataframe thead th {\n",
              "        text-align: right;\n",
              "    }\n",
              "</style>\n",
              "<table border=\"1\" class=\"dataframe\">\n",
              "  <thead>\n",
              "    <tr style=\"text-align: right;\">\n",
              "      <th></th>\n",
              "      <th>length</th>\n",
              "      <th>radius_of_gyration</th>\n",
              "      <th>end_to_end_distance</th>\n",
              "      <th>scaling_exponent</th>\n",
              "      <th>asphericity</th>\n",
              "      <th>prefactor</th>\n",
              "    </tr>\n",
              "    <tr>\n",
              "      <th>sequence</th>\n",
              "      <th></th>\n",
              "      <th></th>\n",
              "      <th></th>\n",
              "      <th></th>\n",
              "      <th></th>\n",
              "      <th></th>\n",
              "    </tr>\n",
              "  </thead>\n",
              "  <tbody>\n",
              "    <tr>\n",
              "      <th>THISISANAMINAACIDSEQWENCE</th>\n",
              "      <td>25.0</td>\n",
              "      <td>12.45053</td>\n",
              "      <td>31.149883</td>\n",
              "      <td>0.523952</td>\n",
              "      <td>0.456221</td>\n",
              "      <td>5.844594</td>\n",
              "    </tr>\n",
              "  </tbody>\n",
              "</table>\n",
              "</div>"
            ],
            "application/vnd.google.colaboratory.module+javascript": "\n      import \"https://ssl.gstatic.com/colaboratory/data_table/99dac6621f6ae8c4/data_table.js\";\n\n      window.createDataTable({\n        data: [[\"THISISANAMINAACIDSEQWENCE\",\n{\n            'v': 25.0,\n            'f': \"25.0\",\n        },\n{\n            'v': 12.450530052185059,\n            'f': \"12.450530052185059\",\n        },\n{\n            'v': 31.149883270263672,\n            'f': \"31.149883270263672\",\n        },\n{\n            'v': 0.5239523649215698,\n            'f': \"0.5239523649215698\",\n        },\n{\n            'v': 0.4562212824821472,\n            'f': \"0.4562212824821472\",\n        },\n{\n            'v': 5.844593524932861,\n            'f': \"5.844593524932861\",\n        }]],\n        columns: [[\"string\", \"sequence\"], [\"number\", \"length\"], [\"number\", \"radius_of_gyration\"], [\"number\", \"end_to_end_distance\"], [\"number\", \"scaling_exponent\"], [\"number\", \"asphericity\"], [\"number\", \"prefactor\"]],\n        columnOptions: [{\"width\": \"1px\", \"className\": \"index_column\"}],\n        rowsPerPage: 5,\n        helpUrl: \"https://colab.research.google.com/notebooks/data_table.ipynb\",\n        suppressOutputScrolling: true,\n        minimumWidth: undefined,\n      });\n    ",
            "text/plain": [
              "<google.colab.data_table.DataTable object>"
            ]
          },
          "metadata": {}
        }
      ]
    },
    {
      "cell_type": "code",
      "source": [
        "#@title Download the CSV file containing your predictions\n",
        "\n",
        "#@markdown <h1>Name of the CSV file that you'd like to save</h1>\n",
        "\n",
        "filename = \"sequence.csv\" #@param {type:\"string\"}\n",
        "\n",
        "filename = os.path.splitext(filename)[0]\n",
        "\n",
        "if filename:\n",
        "    df.to_csv(f\"{filename}.csv\")\n",
        "\n",
        "    files.download(f'{filename}.csv')\n",
        "\n"
      ],
      "metadata": {
        "colab": {
          "base_uri": "https://localhost:8080/",
          "height": 17
        },
        "cellView": "form",
        "id": "FkytLcSGgOsf",
        "outputId": "e0282634-eeff-4fc7-c2f2-1be0ca14ffeb"
      },
      "execution_count": 35,
      "outputs": [
        {
          "output_type": "display_data",
          "data": {
            "text/plain": [
              "<IPython.core.display.Javascript object>"
            ],
            "application/javascript": [
              "\n",
              "    async function download(id, filename, size) {\n",
              "      if (!google.colab.kernel.accessAllowed) {\n",
              "        return;\n",
              "      }\n",
              "      const div = document.createElement('div');\n",
              "      const label = document.createElement('label');\n",
              "      label.textContent = `Downloading \"${filename}\": `;\n",
              "      div.appendChild(label);\n",
              "      const progress = document.createElement('progress');\n",
              "      progress.max = size;\n",
              "      div.appendChild(progress);\n",
              "      document.body.appendChild(div);\n",
              "\n",
              "      const buffers = [];\n",
              "      let downloaded = 0;\n",
              "\n",
              "      const channel = await google.colab.kernel.comms.open(id);\n",
              "      // Send a message to notify the kernel that we're ready.\n",
              "      channel.send({})\n",
              "\n",
              "      for await (const message of channel.messages) {\n",
              "        // Send a message to notify the kernel that we're ready.\n",
              "        channel.send({})\n",
              "        if (message.buffers) {\n",
              "          for (const buffer of message.buffers) {\n",
              "            buffers.push(buffer);\n",
              "            downloaded += buffer.byteLength;\n",
              "            progress.value = downloaded;\n",
              "          }\n",
              "        }\n",
              "      }\n",
              "      const blob = new Blob(buffers, {type: 'application/binary'});\n",
              "      const a = document.createElement('a');\n",
              "      a.href = window.URL.createObjectURL(blob);\n",
              "      a.download = filename;\n",
              "      div.appendChild(a);\n",
              "      a.click();\n",
              "      div.remove();\n",
              "    }\n",
              "  "
            ]
          },
          "metadata": {}
        },
        {
          "output_type": "display_data",
          "data": {
            "text/plain": [
              "<IPython.core.display.Javascript object>"
            ],
            "application/javascript": [
              "download(\"download_58bbc6ad-01e5-4c50-9781-ab4315587f4c\", \"sequence.csv\", 219)"
            ]
          },
          "metadata": {}
        }
      ]
    },
    {
      "cell_type": "code",
      "source": [
        "#@title Plot predicted end-to-end-distribution\n",
        "bins = 25 #@param {type:\"integer\"}\n",
        "if is_iterable(protein_objs):\n",
        "    raise SparrowException(\"We don't currently support predicting end-to-end distance distributions from fasta files. Please use the single sequence method in the cell above.\")\n",
        "\n",
        "p_of_Re_R, p_of_Re_P = protein_objs.polymeric.get_predicted_nu_dep_end_to_end_distribution()\n",
        "plt.hist(p_of_Re_R, weights=p_of_Re_P, linewidth=0.5, edgecolor='k',bins=bins)\n",
        "plt.xlabel(r\"End to End Distance ($\\AA$)\")\n",
        "plt.ylabel(\"Probability\")\n",
        "plt.axvline(protein_objs.predictor.end_to_end_distance(), linestyle=\"--\",color='r',label=r\"Mean $R_e$\")\n",
        "plt.legend()\n",
        "plt.show()"
      ],
      "metadata": {
        "colab": {
          "base_uri": "https://localhost:8080/",
          "height": 453
        },
        "cellView": "form",
        "id": "e0T5qZGeQ_Er",
        "outputId": "275521bd-a062-461b-d334-74260e1065a2"
      },
      "execution_count": 7,
      "outputs": [
        {
          "output_type": "display_data",
          "data": {
            "text/plain": [
              "<Figure size 640x480 with 1 Axes>"
            ],
            "image/png": "[encoded data removed]"
          },
          "metadata": {}
        }
      ]
    },
    {
      "cell_type": "code",
      "source": [],
      "metadata": {
        "id": "8vn22wStdpJZ"
      },
      "execution_count": 7,
      "outputs": []
    }
  ]
}