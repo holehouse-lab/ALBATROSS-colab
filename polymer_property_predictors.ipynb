{
  "nbformat": 4,
  "nbformat_minor": 0,
  "metadata": {
    "colab": {
      "provenance": [],
      "authorship_tag": "ABX9TyPSdH+sf+WDXurTip3gu8MA",
      "include_colab_link": true
    },
    "kernelspec": {
      "name": "python3",
      "display_name": "Python 3"
    },
    "language_info": {
      "name": "python"
    }
  },
  "cells": [
    {
      "cell_type": "markdown",
      "metadata": {
        "id": "view-in-github",
        "colab_type": "text"
      },
      "source": [
        "<a href=\"https://colab.research.google.com/github/holehouse-lab/EnsPredict-colab/blob/main/polymer_property_predictors.ipynb\" target=\"_parent\"><img src=\"https://colab.research.google.com/assets/colab-badge.svg\" alt=\"Open In Colab\"/></a>"
      ]
    },
    {
      "cell_type": "markdown",
      "source": [
        "# Welcome to IDPEnsemble Predictor"
      ],
      "metadata": {
        "id": "ffajaERR2-t_"
      }
    },
    {
      "cell_type": "code",
      "source": [
        "#@title Install Necessary Dependencies\n",
        "!pip install git+https://git@github.com/idptools/sparrow.git@polymer_predictors --quiet\n",
        "\n",
        "\n"
      ],
      "metadata": {
        "id": "-fvNNE364qtj",
        "colab": {
          "base_uri": "https://localhost:8080/"
        },
        "outputId": "1d47dd1b-f0f3-4ade-d8c9-eada52a23f18",
        "cellView": "form"
      },
      "execution_count": 3,
      "outputs": [
        {
          "output_type": "stream",
          "name": "stdout",
          "text": [
            "  Preparing metadata (setup.py) ... \u001b[?25l\u001b[?25hdone\n",
            "\u001b[2K     \u001b[90m━━━━━━━━━━━━━━━━━━━━━━━━━━━━━━━━━━━━━━━\u001b[0m \u001b[32m142.6/142.6 kB\u001b[0m \u001b[31m4.3 MB/s\u001b[0m eta \u001b[36m0:00:00\u001b[0m\n",
            "\u001b[?25h  Preparing metadata (setup.py) ... \u001b[?25l\u001b[?25hdone\n",
            "\u001b[2K     \u001b[90m━━━━━━━━━━━━━━━━━━━━━━━━━━━━━━━━━━━━━━\u001b[0m \u001b[32m476.7/476.7 kB\u001b[0m \u001b[31m18.6 MB/s\u001b[0m eta \u001b[36m0:00:00\u001b[0m\n",
            "\u001b[?25h  Preparing metadata (setup.py) ... \u001b[?25l\u001b[?25hdone\n",
            "\u001b[2K     \u001b[90m━━━━━━━━━━━━━━━━━━━━━━━━━━━━━━━━━━━━━━\u001b[0m \u001b[32m101.5/101.5 kB\u001b[0m \u001b[31m10.0 MB/s\u001b[0m eta \u001b[36m0:00:00\u001b[0m\n",
            "\u001b[2K     \u001b[90m━━━━━━━━━━━━━━━━━━━━━━━━━━━━━━━━━━━━━━━━\u001b[0m \u001b[32m2.3/2.3 MB\u001b[0m \u001b[31m2.0 MB/s\u001b[0m eta \u001b[36m0:00:00\u001b[0m\n",
            "\u001b[?25h  Preparing metadata (setup.py) ... \u001b[?25l\u001b[?25hdone\n",
            "\u001b[2K     \u001b[90m━━━━━━━━━━━━━━━━━━━━━━━━━━━━━━━━━━━━━━━━\u001b[0m \u001b[32m1.2/1.2 MB\u001b[0m \u001b[31m4.9 MB/s\u001b[0m eta \u001b[36m0:00:00\u001b[0m\n",
            "\u001b[?25h  Preparing metadata (setup.py) ... \u001b[?25l\u001b[?25hdone\n",
            "\u001b[2K     \u001b[90m━━━━━━━━━━━━━━━━━━━━━━━━━━━━━━━━━━━━━━━━\u001b[0m \u001b[32m1.6/1.6 MB\u001b[0m \u001b[31m66.0 MB/s\u001b[0m eta \u001b[36m0:00:00\u001b[0m\n",
            "\u001b[?25h  Building wheel for sparrow (setup.py) ... \u001b[?25l\u001b[?25hdone\n",
            "  Building wheel for metapredict (setup.py) ... \u001b[?25l\u001b[?25hdone\n",
            "  Building wheel for alphaPredict (setup.py) ... \u001b[?25l\u001b[?25hdone\n",
            "  Building wheel for protfasta (setup.py) ... \u001b[?25l\u001b[?25hdone\n",
            "  Building wheel for getSequence (setup.py) ... \u001b[?25l\u001b[?25hdone\n"
          ]
        }
      ]
    },
    {
      "cell_type": "code",
      "source": [
        "#@title File Imports\n",
        "import sparrow\n",
        "from sparrow.predictors.batch_predict import batch_predict\n",
        "from google.colab import data_table\n",
        "import pandas as pd\n",
        "from sparrow.sparrow_exceptions import SparrowException\n",
        "from google.colab import files\n",
        "import io\n",
        "from collections import defaultdict"
      ],
      "metadata": {
        "id": "5M6IhZED0ywO",
        "cellView": "form",
        "colab": {
          "base_uri": "https://localhost:8080/"
        },
        "outputId": "0418a057-45c8-4ae7-f031-e965d9b9a9b1"
      },
      "execution_count": 4,
      "outputs": [
        {
          "output_type": "stream",
          "name": "stdout",
          "text": [
            "Error importing GPy.\n",
            " If trying to run parrot-optimize, make sure to use `pip install idptools-parrot[optimize]`\n"
          ]
        }
      ]
    },
    {
      "cell_type": "code",
      "source": [
        "#@title Target Sequence\n",
        "#@markdown <h1>Enter the primary amino acid sequence:</h1>\n",
        "\n",
        "#@markdown Notes: \n",
        "\n",
        "#@markdown - The following predictors implicitly assume this sequence is disordered.\n",
        "\n",
        "#@markdown - A sequence cannot be provided at the same time as a fasta file.\n",
        "\n",
        "# define the function that will be called when the form is submitted\n",
        "def process_form():\n",
        "    uploaded_data = files.upload()\n",
        "    uploaded_fasta = list(uploaded_data.keys())[0]\n",
        "    # Load protein objects\n",
        "    try:\n",
        "      protein_objs = sparrow.read_fasta(uploaded_fasta)\n",
        "    except TypeError as e:\n",
        "      print(f\"Received TypeError: Perhaps you didn't upload a file?\")\n",
        "      raise e\n",
        "\n",
        "    return protein_objs\n",
        "\n",
        "\n",
        "\n",
        "sequence = \"\" #@param {type:\"string\"}\n",
        "fasta_file = True #@param {type:\"boolean\"}\n",
        "\n",
        "\n",
        "if fasta_file and len(sequence) > 0:\n",
        "  raise SparrowException(f\"Cannot specify both a sequence and a list of sequences from a fasta file simultaneously\")\n",
        "\n",
        "if fasta_file:\n",
        "    protein_objs = process_form()\n",
        "else:\n",
        "    # list to make it an iterable\n",
        "    protein_objs = [sparrow.Protein(sequence)]\n",
        "\n",
        "for protein in protein_objs:\n",
        "  if len(protein) > 750:\n",
        "    raise SparrowException(f\"Sequences longer than 750 residues are not currently supported.\"\\\n",
        "      \"You entered a protein with length {len(protein)} residues\")\n",
        "\n"
      ],
      "metadata": {
        "id": "pezBzdsc3RIv",
        "colab": {
          "base_uri": "https://localhost:8080/",
          "height": 76
        },
        "outputId": "632e057d-859d-4844-b364-856555549832",
        "cellView": "form"
      },
      "execution_count": 6,
      "outputs": [
        {
          "output_type": "display_data",
          "data": {
            "text/plain": [
              "<IPython.core.display.HTML object>"
            ],
            "text/html": [
              "\n",
              "     <input type=\"file\" id=\"files-60f211d9-34c5-43ca-9bce-ca813bf27b51\" name=\"files[]\" multiple disabled\n",
              "        style=\"border:none\" />\n",
              "     <output id=\"result-60f211d9-34c5-43ca-9bce-ca813bf27b51\">\n",
              "      Upload widget is only available when the cell has been executed in the\n",
              "      current browser session. Please rerun this cell to enable.\n",
              "      </output>\n",
              "      <script>// Copyright 2017 Google LLC\n",
              "//\n",
              "// Licensed under the Apache License, Version 2.0 (the \"License\");\n",
              "// you may not use this file except in compliance with the License.\n",
              "// You may obtain a copy of the License at\n",
              "//\n",
              "//      http://www.apache.org/licenses/LICENSE-2.0\n",
              "//\n",
              "// Unless required by applicable law or agreed to in writing, software\n",
              "// distributed under the License is distributed on an \"AS IS\" BASIS,\n",
              "// WITHOUT WARRANTIES OR CONDITIONS OF ANY KIND, either express or implied.\n",
              "// See the License for the specific language governing permissions and\n",
              "// limitations under the License.\n",
              "\n",
              "/**\n",
              " * @fileoverview Helpers for google.colab Python module.\n",
              " */\n",
              "(function(scope) {\n",
              "function span(text, styleAttributes = {}) {\n",
              "  const element = document.createElement('span');\n",
              "  element.textContent = text;\n",
              "  for (const key of Object.keys(styleAttributes)) {\n",
              "    element.style[key] = styleAttributes[key];\n",
              "  }\n",
              "  return element;\n",
              "}\n",
              "\n",
              "// Max number of bytes which will be uploaded at a time.\n",
              "const MAX_PAYLOAD_SIZE = 100 * 1024;\n",
              "\n",
              "function _uploadFiles(inputId, outputId) {\n",
              "  const steps = uploadFilesStep(inputId, outputId);\n",
              "  const outputElement = document.getElementById(outputId);\n",
              "  // Cache steps on the outputElement to make it available for the next call\n",
              "  // to uploadFilesContinue from Python.\n",
              "  outputElement.steps = steps;\n",
              "\n",
              "  return _uploadFilesContinue(outputId);\n",
              "}\n",
              "\n",
              "// This is roughly an async generator (not supported in the browser yet),\n",
              "// where there are multiple asynchronous steps and the Python side is going\n",
              "// to poll for completion of each step.\n",
              "// This uses a Promise to block the python side on completion of each step,\n",
              "// then passes the result of the previous step as the input to the next step.\n",
              "function _uploadFilesContinue(outputId) {\n",
              "  const outputElement = document.getElementById(outputId);\n",
              "  const steps = outputElement.steps;\n",
              "\n",
              "  const next = steps.next(outputElement.lastPromiseValue);\n",
              "  return Promise.resolve(next.value.promise).then((value) => {\n",
              "    // Cache the last promise value to make it available to the next\n",
              "    // step of the generator.\n",
              "    outputElement.lastPromiseValue = value;\n",
              "    return next.value.response;\n",
              "  });\n",
              "}\n",
              "\n",
              "/**\n",
              " * Generator function which is called between each async step of the upload\n",
              " * process.\n",
              " * @param {string} inputId Element ID of the input file picker element.\n",
              " * @param {string} outputId Element ID of the output display.\n",
              " * @return {!Iterable<!Object>} Iterable of next steps.\n",
              " */\n",
              "function* uploadFilesStep(inputId, outputId) {\n",
              "  const inputElement = document.getElementById(inputId);\n",
              "  inputElement.disabled = false;\n",
              "\n",
              "  const outputElement = document.getElementById(outputId);\n",
              "  outputElement.innerHTML = '';\n",
              "\n",
              "  const pickedPromise = new Promise((resolve) => {\n",
              "    inputElement.addEventListener('change', (e) => {\n",
              "      resolve(e.target.files);\n",
              "    });\n",
              "  });\n",
              "\n",
              "  const cancel = document.createElement('button');\n",
              "  inputElement.parentElement.appendChild(cancel);\n",
              "  cancel.textContent = 'Cancel upload';\n",
              "  const cancelPromise = new Promise((resolve) => {\n",
              "    cancel.onclick = () => {\n",
              "      resolve(null);\n",
              "    };\n",
              "  });\n",
              "\n",
              "  // Wait for the user to pick the files.\n",
              "  const files = yield {\n",
              "    promise: Promise.race([pickedPromise, cancelPromise]),\n",
              "    response: {\n",
              "      action: 'starting',\n",
              "    }\n",
              "  };\n",
              "\n",
              "  cancel.remove();\n",
              "\n",
              "  // Disable the input element since further picks are not allowed.\n",
              "  inputElement.disabled = true;\n",
              "\n",
              "  if (!files) {\n",
              "    return {\n",
              "      response: {\n",
              "        action: 'complete',\n",
              "      }\n",
              "    };\n",
              "  }\n",
              "\n",
              "  for (const file of files) {\n",
              "    const li = document.createElement('li');\n",
              "    li.append(span(file.name, {fontWeight: 'bold'}));\n",
              "    li.append(span(\n",
              "        `(${file.type || 'n/a'}) - ${file.size} bytes, ` +\n",
              "        `last modified: ${\n",
              "            file.lastModifiedDate ? file.lastModifiedDate.toLocaleDateString() :\n",
              "                                    'n/a'} - `));\n",
              "    const percent = span('0% done');\n",
              "    li.appendChild(percent);\n",
              "\n",
              "    outputElement.appendChild(li);\n",
              "\n",
              "    const fileDataPromise = new Promise((resolve) => {\n",
              "      const reader = new FileReader();\n",
              "      reader.onload = (e) => {\n",
              "        resolve(e.target.result);\n",
              "      };\n",
              "      reader.readAsArrayBuffer(file);\n",
              "    });\n",
              "    // Wait for the data to be ready.\n",
              "    let fileData = yield {\n",
              "      promise: fileDataPromise,\n",
              "      response: {\n",
              "        action: 'continue',\n",
              "      }\n",
              "    };\n",
              "\n",
              "    // Use a chunked sending to avoid message size limits. See b/62115660.\n",
              "    let position = 0;\n",
              "    do {\n",
              "      const length = Math.min(fileData.byteLength - position, MAX_PAYLOAD_SIZE);\n",
              "      const chunk = new Uint8Array(fileData, position, length);\n",
              "      position += length;\n",
              "\n",
              "      const base64 = btoa(String.fromCharCode.apply(null, chunk));\n",
              "      yield {\n",
              "        response: {\n",
              "          action: 'append',\n",
              "          file: file.name,\n",
              "          data: base64,\n",
              "        },\n",
              "      };\n",
              "\n",
              "      let percentDone = fileData.byteLength === 0 ?\n",
              "          100 :\n",
              "          Math.round((position / fileData.byteLength) * 100);\n",
              "      percent.textContent = `${percentDone}% done`;\n",
              "\n",
              "    } while (position < fileData.byteLength);\n",
              "  }\n",
              "\n",
              "  // All done.\n",
              "  yield {\n",
              "    response: {\n",
              "      action: 'complete',\n",
              "    }\n",
              "  };\n",
              "}\n",
              "\n",
              "scope.google = scope.google || {};\n",
              "scope.google.colab = scope.google.colab || {};\n",
              "scope.google.colab._files = {\n",
              "  _uploadFiles,\n",
              "  _uploadFilesContinue,\n",
              "};\n",
              "})(self);\n",
              "</script> "
            ]
          },
          "metadata": {}
        },
        {
          "output_type": "stream",
          "name": "stdout",
          "text": [
            "Saving test.fasta to test.fasta\n"
          ]
        }
      ]
    },
    {
      "cell_type": "code",
      "source": [
        "#@title Sequence Property Prediction\n",
        "\n",
        "#@markdown <h1>Please select the ensemble features you'd like to predict and then press the run cell button: </h1>\n",
        "\n",
        "#@markdown This may take some time for large fasta files. GPU batch support is currently not implemented. Power users are recommended to install sparrow to run predictions locally.\n",
        "\n",
        "radius_of_gyration = True #@param {type:\"boolean\"}\n",
        "end_to_end_distance = True #@param {type:\"boolean\"}\n",
        "scaling_exponent = True #@param {type:\"boolean\"}\n",
        "prefactor = True #@param {type:\"boolean\"}\n",
        "asphericity = True #@param {type:\"boolean\"}\n",
        "\n",
        "\n",
        "dimensions = defaultdict(dict)\n",
        "\n",
        "for i, (header,protein) in enumerate(protein_objs.items(),1):\n",
        "    \n",
        "    dimensions[header].update({\"length\" : int(len(protein))})\n",
        "\n",
        "    if radius_of_gyration:\n",
        "        dimensions[header].update({\"radius_of_gyration\" : i*10})\n",
        "    if end_to_end_distance:\n",
        "    # dimensions[\"end_to_end_distance\"] = protein.predictor.end_to_end_distance()\n",
        "        dimensions[header].update({\"end_to_end_distance\" : 12.5})\n",
        "    if scaling_exponent:\n",
        "        dimensions[header].update({\"scaling_exponent\" : 12.5})\n",
        "    # dimensions[\"scaling_exponent\"] = protein.predictor.scaling_exponent()\n",
        "    if asphericity:\n",
        "        dimensions[header].update({\"asphericity\" : 5.5})\n",
        "        # dimensions[\"asphericity\"] = 0.8 #protein.predictor.asphericity()\n",
        "    if prefactor:\n",
        "        dimensions[header].update({\"prefactor\" : 5.5})\n",
        "        # dimensions[\"prefactor\"] = 5.5 # protein.predictor.prefactor()\n",
        "\n",
        "df = pd.DataFrame(dimensions).T\n",
        "df = df.rename_axis('fasta_header')\n",
        "\n",
        "display(data_table.DataTable(df, include_index=True, num_rows_per_page=5))\n"
      ],
      "metadata": {
        "colab": {
          "base_uri": "https://localhost:8080/",
          "height": 244
        },
        "id": "J5Z377pa3sHV",
        "outputId": "40b93620-7f13-4f3a-e7d2-0c0c247ba056",
        "collapsed": true,
        "cellView": "form"
      },
      "execution_count": 2,
      "outputs": [
        {
          "output_type": "error",
          "ename": "NameError",
          "evalue": "ignored",
          "traceback": [
            "\u001b[0;31m---------------------------------------------------------------------------\u001b[0m",
            "\u001b[0;31mNameError\u001b[0m                                 Traceback (most recent call last)",
            "\u001b[0;32m<ipython-input-2-73892b85074e>\u001b[0m in \u001b[0;36m<cell line: 14>\u001b[0;34m()\u001b[0m\n\u001b[1;32m     12\u001b[0m \u001b[0;34m\u001b[0m\u001b[0m\n\u001b[1;32m     13\u001b[0m \u001b[0;34m\u001b[0m\u001b[0m\n\u001b[0;32m---> 14\u001b[0;31m \u001b[0mdimensions\u001b[0m \u001b[0;34m=\u001b[0m \u001b[0mdefaultdict\u001b[0m\u001b[0;34m(\u001b[0m\u001b[0mdict\u001b[0m\u001b[0;34m)\u001b[0m\u001b[0;34m\u001b[0m\u001b[0;34m\u001b[0m\u001b[0m\n\u001b[0m\u001b[1;32m     15\u001b[0m \u001b[0;34m\u001b[0m\u001b[0m\n\u001b[1;32m     16\u001b[0m \u001b[0;32mfor\u001b[0m \u001b[0mi\u001b[0m\u001b[0;34m,\u001b[0m \u001b[0;34m(\u001b[0m\u001b[0mheader\u001b[0m\u001b[0;34m,\u001b[0m\u001b[0mprotein\u001b[0m\u001b[0;34m)\u001b[0m \u001b[0;32min\u001b[0m \u001b[0menumerate\u001b[0m\u001b[0;34m(\u001b[0m\u001b[0mprotein_objs\u001b[0m\u001b[0;34m.\u001b[0m\u001b[0mitems\u001b[0m\u001b[0;34m(\u001b[0m\u001b[0;34m)\u001b[0m\u001b[0;34m,\u001b[0m\u001b[0;36m1\u001b[0m\u001b[0;34m)\u001b[0m\u001b[0;34m:\u001b[0m\u001b[0;34m\u001b[0m\u001b[0;34m\u001b[0m\u001b[0m\n",
            "\u001b[0;31mNameError\u001b[0m: name 'defaultdict' is not defined"
          ]
        }
      ]
    },
    {
      "cell_type": "markdown",
      "source": [],
      "metadata": {
        "id": "_XlIPhCUFPQq"
      }
    },
    {
      "cell_type": "markdown",
      "source": [
        "## Predicted Properties"
      ],
      "metadata": {
        "id": "Oa0Zdy10Cjcc"
      }
    },
    {
      "cell_type": "code",
      "source": [],
      "metadata": {
        "id": "BMu5N-4q26UI"
      },
      "execution_count": 9,
      "outputs": []
    },
    {
      "cell_type": "code",
      "source": [],
      "metadata": {
        "id": "jUD32Fz23_Wj"
      },
      "execution_count": null,
      "outputs": []
    },
    {
      "cell_type": "code",
      "source": [],
      "metadata": {
        "id": "m4eSafWS57xQ"
      },
      "execution_count": null,
      "outputs": []
    },
    {
      "cell_type": "code",
      "execution_count": null,
      "metadata": {
        "id": "ZI5C144j2rnt"
      },
      "outputs": [],
      "source": []
    },
    {
      "cell_type": "code",
      "source": [],
      "metadata": {
        "id": "xUvJL-HA4K_z"
      },
      "execution_count": null,
      "outputs": []
    },
    {
      "cell_type": "code",
      "source": [
        "# temporarily not including this in notebook but will add later this week.\n",
        "# seq = sparrow.Protein(\"GSKPRKGDLRSDPLEDKRKSRGSPKR\")\n",
        "# p_of_Re_R, p_of_Re_P = seq.polymeric.get_predicted_nu_dep_end_to_end_distribution()"
      ],
      "metadata": {
        "id": "IWx0bZZD4LoE"
      },
      "execution_count": null,
      "outputs": []
    }
  ]
}